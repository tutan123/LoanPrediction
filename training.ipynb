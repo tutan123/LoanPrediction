{
 "cells": [
  {
   "cell_type": "code",
   "execution_count": 1,
   "metadata": {},
   "outputs": [],
   "source": [
    "import pandas as pd\n",
    "import numpy as np"
   ]
  },
  {
   "cell_type": "code",
   "execution_count": 2,
   "metadata": {},
   "outputs": [
    {
     "name": "stderr",
     "output_type": "stream",
     "text": [
      "d:\\ProgramData\\Anaconda3\\lib\\site-packages\\IPython\\core\\interactiveshell.py:2728: DtypeWarning: Columns (45) have mixed types. Specify dtype option on import or set low_memory=False.\n",
      "  interactivity=interactivity, compiler=compiler, result=result)\n"
     ]
    }
   ],
   "source": [
    "train_df = pd.read_csv('train.csv', index_col=0)\n",
    "test_df = pd.read_csv('test.csv', index_col=0)"
   ]
  },
  {
   "cell_type": "code",
   "execution_count": 3,
   "metadata": {},
   "outputs": [
    {
     "data": {
      "text/html": [
       "<div>\n",
       "<style scoped>\n",
       "    .dataframe tbody tr th:only-of-type {\n",
       "        vertical-align: middle;\n",
       "    }\n",
       "\n",
       "    .dataframe tbody tr th {\n",
       "        vertical-align: top;\n",
       "    }\n",
       "\n",
       "    .dataframe thead th {\n",
       "        text-align: right;\n",
       "    }\n",
       "</style>\n",
       "<table border=\"1\" class=\"dataframe\">\n",
       "  <thead>\n",
       "    <tr style=\"text-align: right;\">\n",
       "      <th></th>\n",
       "      <th>loan_amnt</th>\n",
       "      <th>funded_amnt</th>\n",
       "      <th>funded_amnt_inv</th>\n",
       "      <th>term</th>\n",
       "      <th>int_rate</th>\n",
       "      <th>installment</th>\n",
       "      <th>grade</th>\n",
       "      <th>sub_grade</th>\n",
       "      <th>emp_title</th>\n",
       "      <th>emp_length</th>\n",
       "      <th>...</th>\n",
       "      <th>total_bal_il</th>\n",
       "      <th>il_util</th>\n",
       "      <th>open_rv_12m</th>\n",
       "      <th>open_rv_24m</th>\n",
       "      <th>max_bal_bc</th>\n",
       "      <th>all_util</th>\n",
       "      <th>total_rev_hi_lim</th>\n",
       "      <th>inq_fi</th>\n",
       "      <th>total_cu_tl</th>\n",
       "      <th>inq_last_12m</th>\n",
       "    </tr>\n",
       "    <tr>\n",
       "      <th>member_id</th>\n",
       "      <th></th>\n",
       "      <th></th>\n",
       "      <th></th>\n",
       "      <th></th>\n",
       "      <th></th>\n",
       "      <th></th>\n",
       "      <th></th>\n",
       "      <th></th>\n",
       "      <th></th>\n",
       "      <th></th>\n",
       "      <th></th>\n",
       "      <th></th>\n",
       "      <th></th>\n",
       "      <th></th>\n",
       "      <th></th>\n",
       "      <th></th>\n",
       "      <th></th>\n",
       "      <th></th>\n",
       "      <th></th>\n",
       "      <th></th>\n",
       "      <th></th>\n",
       "    </tr>\n",
       "  </thead>\n",
       "  <tbody>\n",
       "    <tr>\n",
       "      <th>13599771</th>\n",
       "      <td>8875.0</td>\n",
       "      <td>8875.0</td>\n",
       "      <td>8875.0</td>\n",
       "      <td>36 months</td>\n",
       "      <td>18.25</td>\n",
       "      <td>321.97</td>\n",
       "      <td>D</td>\n",
       "      <td>D3</td>\n",
       "      <td>Inventory/Part time Sup</td>\n",
       "      <td>8 years</td>\n",
       "      <td>...</td>\n",
       "      <td>NaN</td>\n",
       "      <td>NaN</td>\n",
       "      <td>NaN</td>\n",
       "      <td>NaN</td>\n",
       "      <td>NaN</td>\n",
       "      <td>NaN</td>\n",
       "      <td>16700.0</td>\n",
       "      <td>NaN</td>\n",
       "      <td>NaN</td>\n",
       "      <td>NaN</td>\n",
       "    </tr>\n",
       "    <tr>\n",
       "      <th>1491956</th>\n",
       "      <td>12500.0</td>\n",
       "      <td>12500.0</td>\n",
       "      <td>12475.0</td>\n",
       "      <td>36 months</td>\n",
       "      <td>8.90</td>\n",
       "      <td>396.92</td>\n",
       "      <td>A</td>\n",
       "      <td>A5</td>\n",
       "      <td>Bel Brands USA</td>\n",
       "      <td>1 year</td>\n",
       "      <td>...</td>\n",
       "      <td>NaN</td>\n",
       "      <td>NaN</td>\n",
       "      <td>NaN</td>\n",
       "      <td>NaN</td>\n",
       "      <td>NaN</td>\n",
       "      <td>NaN</td>\n",
       "      <td>NaN</td>\n",
       "      <td>NaN</td>\n",
       "      <td>NaN</td>\n",
       "      <td>NaN</td>\n",
       "    </tr>\n",
       "    <tr>\n",
       "      <th>64687987</th>\n",
       "      <td>33600.0</td>\n",
       "      <td>33600.0</td>\n",
       "      <td>33600.0</td>\n",
       "      <td>60 months</td>\n",
       "      <td>18.55</td>\n",
       "      <td>863.31</td>\n",
       "      <td>E</td>\n",
       "      <td>E2</td>\n",
       "      <td>Assistant Principal</td>\n",
       "      <td>9 years</td>\n",
       "      <td>...</td>\n",
       "      <td>NaN</td>\n",
       "      <td>NaN</td>\n",
       "      <td>NaN</td>\n",
       "      <td>NaN</td>\n",
       "      <td>NaN</td>\n",
       "      <td>NaN</td>\n",
       "      <td>41300.0</td>\n",
       "      <td>NaN</td>\n",
       "      <td>NaN</td>\n",
       "      <td>NaN</td>\n",
       "    </tr>\n",
       "    <tr>\n",
       "      <th>8446850</th>\n",
       "      <td>17000.0</td>\n",
       "      <td>17000.0</td>\n",
       "      <td>17000.0</td>\n",
       "      <td>60 months</td>\n",
       "      <td>9.71</td>\n",
       "      <td>358.78</td>\n",
       "      <td>B</td>\n",
       "      <td>B1</td>\n",
       "      <td>Cook Childrens Medical Center</td>\n",
       "      <td>10+ years</td>\n",
       "      <td>...</td>\n",
       "      <td>NaN</td>\n",
       "      <td>NaN</td>\n",
       "      <td>NaN</td>\n",
       "      <td>NaN</td>\n",
       "      <td>NaN</td>\n",
       "      <td>NaN</td>\n",
       "      <td>22800.0</td>\n",
       "      <td>NaN</td>\n",
       "      <td>NaN</td>\n",
       "      <td>NaN</td>\n",
       "    </tr>\n",
       "    <tr>\n",
       "      <th>58471388</th>\n",
       "      <td>14000.0</td>\n",
       "      <td>14000.0</td>\n",
       "      <td>14000.0</td>\n",
       "      <td>60 months</td>\n",
       "      <td>16.99</td>\n",
       "      <td>347.87</td>\n",
       "      <td>D</td>\n",
       "      <td>D3</td>\n",
       "      <td>Cook</td>\n",
       "      <td>5 years</td>\n",
       "      <td>...</td>\n",
       "      <td>NaN</td>\n",
       "      <td>NaN</td>\n",
       "      <td>NaN</td>\n",
       "      <td>NaN</td>\n",
       "      <td>NaN</td>\n",
       "      <td>NaN</td>\n",
       "      <td>10300.0</td>\n",
       "      <td>NaN</td>\n",
       "      <td>NaN</td>\n",
       "      <td>NaN</td>\n",
       "    </tr>\n",
       "  </tbody>\n",
       "</table>\n",
       "<p>5 rows × 63 columns</p>\n",
       "</div>"
      ],
      "text/plain": [
       "           loan_amnt  funded_amnt  funded_amnt_inv        term  int_rate  \\\n",
       "member_id                                                                  \n",
       "13599771      8875.0       8875.0           8875.0   36 months     18.25   \n",
       "1491956      12500.0      12500.0          12475.0   36 months      8.90   \n",
       "64687987     33600.0      33600.0          33600.0   60 months     18.55   \n",
       "8446850      17000.0      17000.0          17000.0   60 months      9.71   \n",
       "58471388     14000.0      14000.0          14000.0   60 months     16.99   \n",
       "\n",
       "           installment grade sub_grade                      emp_title  \\\n",
       "member_id                                                               \n",
       "13599771        321.97     D        D3        Inventory/Part time Sup   \n",
       "1491956         396.92     A        A5                 Bel Brands USA   \n",
       "64687987        863.31     E        E2           Assistant Principal    \n",
       "8446850         358.78     B        B1  Cook Childrens Medical Center   \n",
       "58471388        347.87     D        D3                           Cook   \n",
       "\n",
       "          emp_length     ...      total_bal_il  il_util open_rv_12m  \\\n",
       "member_id                ...                                          \n",
       "13599771     8 years     ...               NaN      NaN         NaN   \n",
       "1491956       1 year     ...               NaN      NaN         NaN   \n",
       "64687987     9 years     ...               NaN      NaN         NaN   \n",
       "8446850    10+ years     ...               NaN      NaN         NaN   \n",
       "58471388     5 years     ...               NaN      NaN         NaN   \n",
       "\n",
       "          open_rv_24m max_bal_bc all_util total_rev_hi_lim inq_fi total_cu_tl  \\\n",
       "member_id                                                                       \n",
       "13599771          NaN        NaN      NaN          16700.0    NaN         NaN   \n",
       "1491956           NaN        NaN      NaN              NaN    NaN         NaN   \n",
       "64687987          NaN        NaN      NaN          41300.0    NaN         NaN   \n",
       "8446850           NaN        NaN      NaN          22800.0    NaN         NaN   \n",
       "58471388          NaN        NaN      NaN          10300.0    NaN         NaN   \n",
       "\n",
       "          inq_last_12m  \n",
       "member_id               \n",
       "13599771           NaN  \n",
       "1491956            NaN  \n",
       "64687987           NaN  \n",
       "8446850            NaN  \n",
       "58471388           NaN  \n",
       "\n",
       "[5 rows x 63 columns]"
      ]
     },
     "execution_count": 3,
     "metadata": {},
     "output_type": "execute_result"
    }
   ],
   "source": [
    "train_df.head()"
   ]
  },
  {
   "cell_type": "code",
   "execution_count": 4,
   "metadata": {},
   "outputs": [
    {
     "data": {
      "text/html": [
       "<div>\n",
       "<style scoped>\n",
       "    .dataframe tbody tr th:only-of-type {\n",
       "        vertical-align: middle;\n",
       "    }\n",
       "\n",
       "    .dataframe tbody tr th {\n",
       "        vertical-align: top;\n",
       "    }\n",
       "\n",
       "    .dataframe thead th {\n",
       "        text-align: right;\n",
       "    }\n",
       "</style>\n",
       "<table border=\"1\" class=\"dataframe\">\n",
       "  <thead>\n",
       "    <tr style=\"text-align: right;\">\n",
       "      <th></th>\n",
       "      <th>loan_amnt</th>\n",
       "      <th>funded_amnt</th>\n",
       "      <th>funded_amnt_inv</th>\n",
       "      <th>term</th>\n",
       "      <th>int_rate</th>\n",
       "      <th>installment</th>\n",
       "      <th>grade</th>\n",
       "      <th>sub_grade</th>\n",
       "      <th>emp_title</th>\n",
       "      <th>emp_length</th>\n",
       "      <th>...</th>\n",
       "      <th>total_bal_il</th>\n",
       "      <th>il_util</th>\n",
       "      <th>open_rv_12m</th>\n",
       "      <th>open_rv_24m</th>\n",
       "      <th>max_bal_bc</th>\n",
       "      <th>all_util</th>\n",
       "      <th>total_rev_hi_lim</th>\n",
       "      <th>inq_fi</th>\n",
       "      <th>total_cu_tl</th>\n",
       "      <th>inq_last_12m</th>\n",
       "    </tr>\n",
       "    <tr>\n",
       "      <th>member_id</th>\n",
       "      <th></th>\n",
       "      <th></th>\n",
       "      <th></th>\n",
       "      <th></th>\n",
       "      <th></th>\n",
       "      <th></th>\n",
       "      <th></th>\n",
       "      <th></th>\n",
       "      <th></th>\n",
       "      <th></th>\n",
       "      <th></th>\n",
       "      <th></th>\n",
       "      <th></th>\n",
       "      <th></th>\n",
       "      <th></th>\n",
       "      <th></th>\n",
       "      <th></th>\n",
       "      <th></th>\n",
       "      <th></th>\n",
       "      <th></th>\n",
       "      <th></th>\n",
       "    </tr>\n",
       "  </thead>\n",
       "  <tbody>\n",
       "    <tr>\n",
       "      <th>24344352</th>\n",
       "      <td>11000.0</td>\n",
       "      <td>11000.0</td>\n",
       "      <td>11000.0</td>\n",
       "      <td>36 months</td>\n",
       "      <td>10.15</td>\n",
       "      <td>355.72</td>\n",
       "      <td>B</td>\n",
       "      <td>B2</td>\n",
       "      <td>Custodian</td>\n",
       "      <td>10+ years</td>\n",
       "      <td>...</td>\n",
       "      <td>NaN</td>\n",
       "      <td>NaN</td>\n",
       "      <td>NaN</td>\n",
       "      <td>NaN</td>\n",
       "      <td>NaN</td>\n",
       "      <td>NaN</td>\n",
       "      <td>47900.0</td>\n",
       "      <td>NaN</td>\n",
       "      <td>NaN</td>\n",
       "      <td>NaN</td>\n",
       "    </tr>\n",
       "    <tr>\n",
       "      <th>68831083</th>\n",
       "      <td>18400.0</td>\n",
       "      <td>18400.0</td>\n",
       "      <td>18400.0</td>\n",
       "      <td>60 months</td>\n",
       "      <td>13.18</td>\n",
       "      <td>420.36</td>\n",
       "      <td>C</td>\n",
       "      <td>C3</td>\n",
       "      <td>President</td>\n",
       "      <td>6 years</td>\n",
       "      <td>...</td>\n",
       "      <td>NaN</td>\n",
       "      <td>NaN</td>\n",
       "      <td>NaN</td>\n",
       "      <td>NaN</td>\n",
       "      <td>NaN</td>\n",
       "      <td>NaN</td>\n",
       "      <td>46100.0</td>\n",
       "      <td>NaN</td>\n",
       "      <td>NaN</td>\n",
       "      <td>NaN</td>\n",
       "    </tr>\n",
       "    <tr>\n",
       "      <th>72767821</th>\n",
       "      <td>8800.0</td>\n",
       "      <td>8800.0</td>\n",
       "      <td>8800.0</td>\n",
       "      <td>36 months</td>\n",
       "      <td>10.64</td>\n",
       "      <td>286.61</td>\n",
       "      <td>B</td>\n",
       "      <td>B4</td>\n",
       "      <td>CPA</td>\n",
       "      <td>1 year</td>\n",
       "      <td>...</td>\n",
       "      <td>63964.0</td>\n",
       "      <td>69.9</td>\n",
       "      <td>4.0</td>\n",
       "      <td>7.0</td>\n",
       "      <td>4971.0</td>\n",
       "      <td>66.8</td>\n",
       "      <td>23100.0</td>\n",
       "      <td>1.0</td>\n",
       "      <td>0.0</td>\n",
       "      <td>5.0</td>\n",
       "    </tr>\n",
       "    <tr>\n",
       "      <th>1539914</th>\n",
       "      <td>8500.0</td>\n",
       "      <td>8500.0</td>\n",
       "      <td>8500.0</td>\n",
       "      <td>36 months</td>\n",
       "      <td>6.62</td>\n",
       "      <td>260.99</td>\n",
       "      <td>A</td>\n",
       "      <td>A2</td>\n",
       "      <td>FCEOC</td>\n",
       "      <td>5 years</td>\n",
       "      <td>...</td>\n",
       "      <td>NaN</td>\n",
       "      <td>NaN</td>\n",
       "      <td>NaN</td>\n",
       "      <td>NaN</td>\n",
       "      <td>NaN</td>\n",
       "      <td>NaN</td>\n",
       "      <td>NaN</td>\n",
       "      <td>NaN</td>\n",
       "      <td>NaN</td>\n",
       "      <td>NaN</td>\n",
       "    </tr>\n",
       "    <tr>\n",
       "      <th>68359086</th>\n",
       "      <td>1000.0</td>\n",
       "      <td>1000.0</td>\n",
       "      <td>1000.0</td>\n",
       "      <td>36 months</td>\n",
       "      <td>12.59</td>\n",
       "      <td>33.50</td>\n",
       "      <td>C</td>\n",
       "      <td>C2</td>\n",
       "      <td>Plumber</td>\n",
       "      <td>&lt; 1 year</td>\n",
       "      <td>...</td>\n",
       "      <td>NaN</td>\n",
       "      <td>NaN</td>\n",
       "      <td>NaN</td>\n",
       "      <td>NaN</td>\n",
       "      <td>NaN</td>\n",
       "      <td>NaN</td>\n",
       "      <td>21500.0</td>\n",
       "      <td>NaN</td>\n",
       "      <td>NaN</td>\n",
       "      <td>NaN</td>\n",
       "    </tr>\n",
       "  </tbody>\n",
       "</table>\n",
       "<p>5 rows × 62 columns</p>\n",
       "</div>"
      ],
      "text/plain": [
       "           loan_amnt  funded_amnt  funded_amnt_inv        term  int_rate  \\\n",
       "member_id                                                                  \n",
       "24344352     11000.0      11000.0          11000.0   36 months     10.15   \n",
       "68831083     18400.0      18400.0          18400.0   60 months     13.18   \n",
       "72767821      8800.0       8800.0           8800.0   36 months     10.64   \n",
       "1539914       8500.0       8500.0           8500.0   36 months      6.62   \n",
       "68359086      1000.0       1000.0           1000.0   36 months     12.59   \n",
       "\n",
       "           installment grade sub_grade  emp_title emp_length     ...       \\\n",
       "member_id                                                        ...        \n",
       "24344352        355.72     B        B2  Custodian  10+ years     ...        \n",
       "68831083        420.36     C        C3  President    6 years     ...        \n",
       "72767821        286.61     B        B4        CPA     1 year     ...        \n",
       "1539914         260.99     A        A2      FCEOC    5 years     ...        \n",
       "68359086         33.50     C        C2    Plumber   < 1 year     ...        \n",
       "\n",
       "          total_bal_il  il_util open_rv_12m open_rv_24m max_bal_bc all_util  \\\n",
       "member_id                                                                     \n",
       "24344352           NaN      NaN         NaN         NaN        NaN      NaN   \n",
       "68831083           NaN      NaN         NaN         NaN        NaN      NaN   \n",
       "72767821       63964.0     69.9         4.0         7.0     4971.0     66.8   \n",
       "1539914            NaN      NaN         NaN         NaN        NaN      NaN   \n",
       "68359086           NaN      NaN         NaN         NaN        NaN      NaN   \n",
       "\n",
       "          total_rev_hi_lim inq_fi total_cu_tl inq_last_12m  \n",
       "member_id                                                   \n",
       "24344352           47900.0    NaN         NaN          NaN  \n",
       "68831083           46100.0    NaN         NaN          NaN  \n",
       "72767821           23100.0    1.0         0.0          5.0  \n",
       "1539914                NaN    NaN         NaN          NaN  \n",
       "68359086           21500.0    NaN         NaN          NaN  \n",
       "\n",
       "[5 rows x 62 columns]"
      ]
     },
     "execution_count": 4,
     "metadata": {},
     "output_type": "execute_result"
    }
   ],
   "source": [
    "test_df.head()"
   ]
  },
  {
   "cell_type": "code",
   "execution_count": 5,
   "metadata": {},
   "outputs": [
    {
     "data": {
      "text/plain": [
       "count    709903.000000\n",
       "mean          0.004639\n",
       "std           0.067950\n",
       "min           0.000000\n",
       "25%           0.000000\n",
       "50%           0.000000\n",
       "75%           0.000000\n",
       "max           1.000000\n",
       "Name: acc_now_delinq, dtype: float64"
      ]
     },
     "execution_count": 5,
     "metadata": {},
     "output_type": "execute_result"
    }
   ],
   "source": [
    "train_df.acc_now_delinq.describe()"
   ]
  },
  {
   "cell_type": "code",
   "execution_count": 9,
   "metadata": {},
   "outputs": [
    {
     "data": {
      "text/plain": [
       "dti_joint                      709495\n",
       "annual_inc_joint               709493\n",
       "verification_status_joint      709493\n",
       "il_util                        694965\n",
       "mths_since_rcnt_il             693234\n",
       "inq_last_12m                   692782\n",
       "total_cu_tl                    692782\n",
       "open_acc_6m                    692782\n",
       "open_il_12m                    692782\n",
       "open_il_24m                    692782\n",
       "open_il_6m                     692782\n",
       "total_bal_il                   692782\n",
       "open_rv_12m                    692782\n",
       "open_rv_24m                    692782\n",
       "max_bal_bc                     692782\n",
       "all_util                       692782\n",
       "inq_fi                         692782\n",
       "desc                           608929\n",
       "mths_since_last_record         600348\n",
       "mths_since_last_major_derog    532479\n",
       "tot_cur_bal                     56135\n",
       "tot_coll_amt                    56135\n",
       "total_rev_hi_lim                56135\n",
       "emp_title                       41187\n",
       "emp_length                      35852\n",
       "revol_util                        409\n",
       "title                             128\n",
       "collections_12_mths_ex_med        118\n",
       "pub_rec                            24\n",
       "earliest_cr_line                   24\n",
       "total_acc                          24\n",
       "annual_inc                          4\n",
       "grade                               0\n",
       "funded_amnt                         0\n",
       "pymnt_plan                          0\n",
       "loan_status                         0\n",
       "funded_amnt_inv                     0\n",
       "purpose                             0\n",
       "issue_d                             0\n",
       "sub_grade                           0\n",
       "dtype: int64"
      ]
     },
     "execution_count": 9,
     "metadata": {},
     "output_type": "execute_result"
    }
   ],
   "source": [
    "train_df.isnull().sum().sort_values(ascending=False).head(40)"
   ]
  },
  {
   "cell_type": "code",
   "execution_count": 12,
   "metadata": {},
   "outputs": [
    {
     "data": {
      "text/plain": [
       "709903"
      ]
     },
     "execution_count": 12,
     "metadata": {},
     "output_type": "execute_result"
    }
   ],
   "source": [
    "len(train_df)"
   ]
  },
  {
   "cell_type": "code",
   "execution_count": 13,
   "metadata": {},
   "outputs": [
    {
     "data": {
      "text/plain": [
       "member_id\n",
       "13599771    0\n",
       "1491956     0\n",
       "64687987    0\n",
       "8446850     0\n",
       "58471388    0\n",
       "5337525     0\n",
       "30165519    0\n",
       "1909391     0\n",
       "43182363    0\n",
       "69222001    0\n",
       "16540530    0\n",
       "71160396    0\n",
       "60071842    0\n",
       "57668328    0\n",
       "67687466    0\n",
       "15369372    0\n",
       "43835646    0\n",
       "779496      0\n",
       "61616912    0\n",
       "70236564    0\n",
       "15049437    0\n",
       "6827555     0\n",
       "11918997    0\n",
       "2830469     0\n",
       "34952648    0\n",
       "42586279    0\n",
       "48602144    0\n",
       "60214560    0\n",
       "7430576     0\n",
       "43081898    0\n",
       "           ..\n",
       "63130280    0\n",
       "1964879     0\n",
       "53886389    0\n",
       "70640139    0\n",
       "31707654    0\n",
       "58024838    0\n",
       "64876975    0\n",
       "4219414     0\n",
       "70588885    0\n",
       "8581538     0\n",
       "60737290    0\n",
       "43838136    0\n",
       "1552797     0\n",
       "41293809    0\n",
       "955801      0\n",
       "28501103    0\n",
       "58789447    0\n",
       "14348607    0\n",
       "33199372    0\n",
       "3016852     0\n",
       "36224697    0\n",
       "28030199    0\n",
       "1640987     0\n",
       "43945052    0\n",
       "52315220    0\n",
       "60264189    0\n",
       "65891998    0\n",
       "21528959    0\n",
       "801947      0\n",
       "34973374    0\n",
       "Name: acc_now_delinq, Length: 709903, dtype: int64"
      ]
     },
     "execution_count": 13,
     "metadata": {},
     "output_type": "execute_result"
    }
   ],
   "source": [
    "train_df.pop('acc_now_delinq')"
   ]
  },
  {
   "cell_type": "code",
   "execution_count": 14,
   "metadata": {},
   "outputs": [
    {
     "ename": "AttributeError",
     "evalue": "'DataFrame' object has no attribute 'acc_now_delinq'",
     "output_type": "error",
     "traceback": [
      "\u001b[1;31m---------------------------------------------------------------------------\u001b[0m",
      "\u001b[1;31mAttributeError\u001b[0m                            Traceback (most recent call last)",
      "\u001b[1;32m<ipython-input-14-c0f97f538879>\u001b[0m in \u001b[0;36m<module>\u001b[1;34m()\u001b[0m\n\u001b[1;32m----> 1\u001b[1;33m \u001b[0mtrain_df\u001b[0m\u001b[1;33m.\u001b[0m\u001b[0macc_now_delinq\u001b[0m\u001b[1;33m.\u001b[0m\u001b[0mdescribe\u001b[0m\u001b[1;33m(\u001b[0m\u001b[1;33m)\u001b[0m\u001b[1;33m\u001b[0m\u001b[0m\n\u001b[0m",
      "\u001b[1;32md:\\ProgramData\\Anaconda3\\lib\\site-packages\\pandas\\core\\generic.py\u001b[0m in \u001b[0;36m__getattr__\u001b[1;34m(self, name)\u001b[0m\n\u001b[0;32m   3612\u001b[0m             \u001b[1;32mif\u001b[0m \u001b[0mname\u001b[0m \u001b[1;32min\u001b[0m \u001b[0mself\u001b[0m\u001b[1;33m.\u001b[0m\u001b[0m_info_axis\u001b[0m\u001b[1;33m:\u001b[0m\u001b[1;33m\u001b[0m\u001b[0m\n\u001b[0;32m   3613\u001b[0m                 \u001b[1;32mreturn\u001b[0m \u001b[0mself\u001b[0m\u001b[1;33m[\u001b[0m\u001b[0mname\u001b[0m\u001b[1;33m]\u001b[0m\u001b[1;33m\u001b[0m\u001b[0m\n\u001b[1;32m-> 3614\u001b[1;33m             \u001b[1;32mreturn\u001b[0m \u001b[0mobject\u001b[0m\u001b[1;33m.\u001b[0m\u001b[0m__getattribute__\u001b[0m\u001b[1;33m(\u001b[0m\u001b[0mself\u001b[0m\u001b[1;33m,\u001b[0m \u001b[0mname\u001b[0m\u001b[1;33m)\u001b[0m\u001b[1;33m\u001b[0m\u001b[0m\n\u001b[0m\u001b[0;32m   3615\u001b[0m \u001b[1;33m\u001b[0m\u001b[0m\n\u001b[0;32m   3616\u001b[0m     \u001b[1;32mdef\u001b[0m \u001b[0m__setattr__\u001b[0m\u001b[1;33m(\u001b[0m\u001b[0mself\u001b[0m\u001b[1;33m,\u001b[0m \u001b[0mname\u001b[0m\u001b[1;33m,\u001b[0m \u001b[0mvalue\u001b[0m\u001b[1;33m)\u001b[0m\u001b[1;33m:\u001b[0m\u001b[1;33m\u001b[0m\u001b[0m\n",
      "\u001b[1;31mAttributeError\u001b[0m: 'DataFrame' object has no attribute 'acc_now_delinq'"
     ]
    }
   ],
   "source": [
    "train_df.acc_now_delinq.describe()"
   ]
  },
  {
   "cell_type": "code",
   "execution_count": 15,
   "metadata": {},
   "outputs": [],
   "source": [
    "all_df = pd.concat((train_df, test_df), axis=0)"
   ]
  },
  {
   "cell_type": "code",
   "execution_count": 16,
   "metadata": {},
   "outputs": [
    {
     "data": {
      "text/plain": [
       "(887379, 62)"
      ]
     },
     "execution_count": 16,
     "metadata": {},
     "output_type": "execute_result"
    }
   ],
   "source": [
    "all_df.shape"
   ]
  },
  {
   "cell_type": "code",
   "execution_count": 17,
   "metadata": {},
   "outputs": [
    {
     "data": {
      "text/plain": [
       "(709903, 62)"
      ]
     },
     "execution_count": 17,
     "metadata": {},
     "output_type": "execute_result"
    }
   ],
   "source": [
    "train_df.shape"
   ]
  },
  {
   "cell_type": "code",
   "execution_count": 18,
   "metadata": {},
   "outputs": [
    {
     "data": {
      "text/plain": [
       "(177476, 62)"
      ]
     },
     "execution_count": 18,
     "metadata": {},
     "output_type": "execute_result"
    }
   ],
   "source": [
    "test_df.shape"
   ]
  },
  {
   "cell_type": "code",
   "execution_count": 19,
   "metadata": {},
   "outputs": [],
   "source": [
    "dummy_train_df = all_df.loc[train_df.index]\n",
    "dummy_test_df = all_df.loc[test_df.index]\n"
   ]
  },
  {
   "cell_type": "code",
   "execution_count": 20,
   "metadata": {},
   "outputs": [
    {
     "data": {
      "text/plain": [
       "(709903, 62)"
      ]
     },
     "execution_count": 20,
     "metadata": {},
     "output_type": "execute_result"
    }
   ],
   "source": [
    "dummy_train_df.shape"
   ]
  },
  {
   "cell_type": "code",
   "execution_count": 21,
   "metadata": {},
   "outputs": [
    {
     "data": {
      "text/plain": [
       "(177476, 62)"
      ]
     },
     "execution_count": 21,
     "metadata": {},
     "output_type": "execute_result"
    }
   ],
   "source": [
    "dummy_test_df.shape"
   ]
  },
  {
   "cell_type": "code",
   "execution_count": null,
   "metadata": {},
   "outputs": [],
   "source": []
  }
 ],
 "metadata": {
  "kernelspec": {
   "display_name": "Python 3",
   "language": "python",
   "name": "python3"
  },
  "language_info": {
   "codemirror_mode": {
    "name": "ipython",
    "version": 3
   },
   "file_extension": ".py",
   "mimetype": "text/x-python",
   "name": "python",
   "nbconvert_exporter": "python",
   "pygments_lexer": "ipython3",
   "version": "3.6.1"
  }
 },
 "nbformat": 4,
 "nbformat_minor": 2
}
